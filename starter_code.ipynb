{
 "cells": [
  {
   "cell_type": "markdown",
   "metadata": {},
   "source": [
    "## 搭建一个简单的问答系统 （Building a Simple QA System）"
   ]
  },
  {
   "cell_type": "markdown",
   "metadata": {},
   "source": [
    "本次项目的目标是搭建一个基于检索式的简易的问答系统，这是一个最经典的方法也是最有效的方法。  "
   ]
  },
  {
   "cell_type": "markdown",
   "metadata": {},
   "source": [
    "#### 检索式的问答系统\n",
    "问答系统所需要的数据已经提供，对于每一个问题都可以找得到相应的答案，所以可以理解为每一个样本数据是 ``<问题、答案>``。 那系统的核心是当用户输入一个问题的时候，首先要找到跟这个问题最相近的已经存储在库里的问题，然后直接返回相应的答案即可。所以这里的核心问题可以归结为计算两个问句（query）之间的相似度。"
   ]
  },
  {
   "cell_type": "markdown",
   "metadata": {},
   "source": [
    "#### 项目中涉及到的任务描述\n",
    "问答系统看似简单，但其中涉及到的内容比较多。 在这里先做一个简单的解释，总体来讲，我们即将要搭建的模块包括：\n",
    "\n",
    "- 文本的读取： 需要从相应的文件里读取```(问题，答案)```\n",
    "- 文本预处理： 清洗文本很重要，需要涉及到```停用词过滤```等工作\n",
    "- 文本的表示： 如果表示一个句子是非常核心的问题，这里会涉及到```tf-idf```, ```Glove```以及```BERT Embedding```\n",
    "- 文本相似度匹配： 在基于检索式系统中一个核心的部分是计算文本之间的```相似度```，从而选择相似度最高的问题然后返回这些问题的答案\n",
    "- 倒排表： 为了加速搜索速度，我们需要设计```倒排表```来存储每一个词与出现的文本\n",
    "- 词义匹配：直接使用倒排表会忽略到一些意思上相近但不完全一样的单词，我们需要做这部分的处理。我们需要提前构建好```相似的单词```然后搜索阶段使用\n",
    "- 拼写纠错：我们不能保证用户输入的准确，所以第一步需要做用户输入检查，如果发现用户拼错了，我们需要及时在后台改正，然后按照修改后的在库里面搜索\n",
    "- 文档的排序： 最后返回结果的排序根据文档之间```余弦相似度```有关，同时也跟倒排表中匹配的单词有关\n"
   ]
  },
  {
   "cell_type": "markdown",
   "metadata": {},
   "source": [
    "#### 项目中需要的数据：\n",
    "1. ```dev-v2.0.json```: 这个数据包含了问题和答案的pair， 但是以JSON格式存在，需要编写parser来提取出里面的问题和答案。 \n",
    "2. ```glove.6B```: 这个文件需要从网上下载，下载地址为：https://nlp.stanford.edu/projects/glove/， 请使用d=200的词向量\n",
    "3. ```spell-errors.txt``` 这个文件主要用来编写拼写纠错模块。 文件中第一列为正确的单词，之后列出来的单词都是常见的错误写法。 但这里需要注意的一点是我们没有给出他们之间的概率，也就是p(错误|正确），所以我们可以认为每一种类型的错误都是```同等概率```\n",
    "4. ```vocab.txt``` 这里列了几万个英文常见的单词，可以用这个词库来验证是否有些单词被拼错\n",
    "5. ```testdata.txt``` 这里搜集了一些测试数据，可以用来测试自己的spell corrector。这个文件只是用来测试自己的程序。"
   ]
  },
  {
   "cell_type": "markdown",
   "metadata": {},
   "source": [
    "在本项目中，将会用到以下几个工具：\n",
    "- ```sklearn```。具体安装请见：http://scikit-learn.org/stable/install.html  sklearn包含了各类机器学习算法和数据处理工具，包括本项目需要使用的词袋模型，均可以在sklearn工具包中找得到。 \n",
    "- ```jieba```，用来做分词。具体使用方法请见 https://github.com/fxsjy/jieba\n",
    "- ```bert embedding```: https://github.com/imgarylai/bert-embedding\n",
    "- ```nltk```：https://www.nltk.org/index.html"
   ]
  },
  {
   "cell_type": "markdown",
   "metadata": {},
   "source": [
    "### 第一部分：对于训练数据的处理：读取文件和预处理"
   ]
  },
  {
   "cell_type": "markdown",
   "metadata": {},
   "source": [
    "- ```文本的读取```： 需要从文本中读取数据，此处需要读取的文件是```dev-v2.0.json```，并把读取的文件存入一个列表里（list）\n",
    "- ```文本预处理```： 对于问题本身需要做一些停用词过滤等文本方面的处理\n",
    "- ```可视化分析```： 对于给定的样本数据，做一些可视化分析来更好地理解数据"
   ]
  },
  {
   "cell_type": "markdown",
   "metadata": {},
   "source": [
    "#### 1.1节： 文本的读取\n",
    "把给定的文本数据读入到```qlist```和```alist```当中，这两个分别是列表，其中```qlist```是问题的列表，```alist```是对应的答案列表"
   ]
  },
  {
   "cell_type": "code",
   "execution_count": 2,
   "metadata": {},
   "outputs": [
    {
     "name": "stdout",
     "output_type": "stream",
     "text": [
      "<class 'dict'>\n",
      "130319\n",
      "When did Beyonce start becoming popular? ==> in the late 1990s\n"
     ]
    }
   ],
   "source": [
    "import json\n",
    "def read_corpus():\n",
    "    \"\"\"\n",
    "    读取给定的语料库，并把问题列表和答案列表分别写入到 qlist, alist 里面。 在此过程中，不用对字符换做任何的处理（这部分需要在 Part 2.3里处理）\n",
    "    qlist = [\"问题1\"， “问题2”， “问题3” ....]\n",
    "    alist = [\"答案1\", \"答案2\", \"答案3\" ....]\n",
    "    务必要让每一个问题和答案对应起来（下标位置一致）\n",
    "    \"\"\"\n",
    "    # TODO 需要完成的代码部分 ...\n",
    "    qlist = []\n",
    "    alist = []\n",
    "    with open('train-v2.0.json', 'r') as f:\n",
    "        load_dict = json.load(f)\n",
    "        print(type(load_dict))\n",
    "        for data in load_dict['data']:\n",
    "            for paragraph in data['paragraphs']:\n",
    "                for qa in paragraph['qas']:\n",
    "                    question = qa['question']\n",
    "                    qlist.append(question)\n",
    "                    if len(qa['answers']) == 0:\n",
    "                        alist.append(qa['plausible_answers'][0]['text'])\n",
    "                    else:\n",
    "                        alist.append(qa['answers'][0]['text'])\n",
    "    assert len(qlist) == len(alist)  # 确保长度一样\n",
    "    return qlist, alist\n",
    "\n",
    "qlist, alist = read_corpus()\n",
    "print(len(qlist))\n",
    "print(f'{qlist[0]} ==> {alist[0]}')"
   ]
  },
  {
   "cell_type": "markdown",
   "metadata": {},
   "source": [
    "#### 1.2 理解数据（可视化分析/统计信息）\n",
    "对数据的理解是任何AI工作的第一步， 需要对数据有个比较直观的认识。在这里，简单地统计一下：\n",
    "\n",
    "- 在```qlist```出现的总单词个数\n",
    "- 按照词频画一个```histogram``` plot"
   ]
  },
  {
   "cell_type": "code",
   "execution_count": 3,
   "metadata": {},
   "outputs": [
    {
     "name": "stdout",
     "output_type": "stream",
     "text": [
      "76475\n",
      "1321965\n"
     ]
    }
   ],
   "source": [
    "# TODO: 统计一下在qlist中总共出现了多少个单词？ 总共出现了多少个不同的单词(unique word)？\n",
    "#       这里需要做简单的分词，对于英文我们根据空格来分词即可，其他过滤暂不考虑（只需分词）\n",
    "word_dict = {}  # unique word\n",
    "word_total = 0  #不去重单词数\n",
    "for q in qlist:\n",
    "    words = q.split(' ')\n",
    "    word_total += len(words)\n",
    "    for w in words:\n",
    "        if w in word_dict:\n",
    "            word_dict[w] += 1\n",
    "        else:\n",
    "            word_dict[w] = 1\n",
    "print(len(word_dict))           \n",
    "print (word_total)"
   ]
  },
  {
   "cell_type": "code",
   "execution_count": 4,
   "metadata": {},
   "outputs": [
    {
     "name": "stdout",
     "output_type": "stream",
     "text": [
      "[1, 2, 3, 4, 5, 6, 7, 8, 9, 10, 11, 12, 13, 14, 15, 16, 17, 18, 19, 20, 21, 22, 23, 24, 25, 26, 27, 28, 29, 30, 31, 32, 33, 34, 35, 36, 37, 38, 39, 40, 41, 42, 43, 44, 45, 46, 47, 48, 49, 50, 51, 52, 53, 54, 55, 56, 57, 58, 59, 60, 61, 62, 63, 64, 65, 66, 67, 68, 69, 70, 71, 72, 73, 74, 75, 76, 77, 78, 79, 80, 81, 82, 83, 84, 85, 86, 87, 88, 89, 90, 91, 92, 93, 94, 95, 96, 97, 98, 99, 100]\n",
      "[35949, 13166, 5803, 3747, 2349, 1762, 1323, 1117, 921, 726, 633, 524, 486, 440, 352, 346, 319, 307, 259, 232, 203, 210, 190, 186, 164, 143, 122, 131, 138, 127, 120, 91, 79, 95, 93, 81, 78, 84, 62, 72, 67, 57, 69, 57, 56, 53, 72, 57, 40, 57, 47, 51, 38, 39, 36, 44, 46, 41, 29, 31, 38, 33, 34, 37, 36, 26, 38, 38, 21, 27, 37, 20, 14, 25, 21, 21, 19, 14, 26, 16, 24, 19, 22, 21, 34, 20, 16, 27, 20, 20, 17, 19, 7, 12, 22, 17, 15, 16, 15, 20]\n"
     ]
    },
    {
     "data": {
      "text/plain": [
       "<Figure size 432x288 with 0 Axes>"
      ]
     },
     "metadata": {},
     "output_type": "display_data"
    },
    {
     "data": {
      "image/png": "[encoded data removed]",
      "text/plain": [
       "<Figure size 576x288 with 1 Axes>"
      ]
     },
     "metadata": {
      "needs_background": "light"
     },
     "output_type": "display_data"
    }
   ],
   "source": [
    "# TODO: 统计一下qlist中出现1次，2次，3次... 出现的单词个数， 然后画一个plot. 这里的x轴是单词出现的次数（1，2，3，..)， y轴是单词个数。\n",
    "#       从左到右分别是 出现1次的单词数，出现2次的单词数，出现3次的单词数... \n",
    "import matplotlib.pyplot as plt\n",
    "fre_cnt_dict = {}\n",
    "for word, fre in word_dict.items():\n",
    "    if fre not in fre_cnt_dict:\n",
    "        fre_cnt_dict[fre] = 1\n",
    "    else:\n",
    "        fre_cnt_dict[fre] += 1\n",
    "word_fre_sort_dist = sorted(fre_cnt_dict.items(), key=lambda x: x[0])\n",
    "x = [fre for fre, cnt in word_fre_sort_dist][0:100]\n",
    "print(x)\n",
    "y = [cnt for fre, cnt in word_fre_sort_dist][0:100]\n",
    "print(y)\n",
    "plt.figure()\n",
    "plt.figure(figsize=(8,4)) #创建绘图对象\n",
    "plt.plot(x,y)   #在当前绘图对象绘图（X轴，Y轴，蓝色虚线，线宽度）\n",
    "plt.xlabel(\"fre\") #X轴标签\n",
    "plt.ylabel(\"count\")  #Y轴标签\n",
    "plt.title(\"word frequence count plot\") #图标题\n",
    "plt.show()  #显示图"
   ]
  },
  {
   "cell_type": "code",
   "execution_count": null,
   "metadata": {},
   "outputs": [],
   "source": [
    "# TODO： 从上面的图中能观察到什么样的现象？ 这样的一个图的形状跟一个非常著名的函数形状很类似，能所出此定理吗？ \n",
    "# \n",
    "# Zipf's law"
   ]
  },
  {
   "cell_type": "markdown",
   "metadata": {},
   "source": [
    "#### 1.3 文本预处理\n",
    "此部分需要做文本方面的处理。 以下是可以用到的一些方法：\n",
    "\n",
    "- 1. 停用词过滤 （去网上搜一下 \"english stop words list\"，会出现很多包含停用词库的网页，或者直接使用NLTK自带的）   \n",
    "- 2. 转换成lower_case： 这是一个基本的操作   \n",
    "- 3. 去掉一些无用的符号： 比如连续的感叹号！！！， 或者一些奇怪的单词。\n",
    "- 4. 去掉出现频率很低的词：比如出现次数少于10,20.... （想一下如何选择阈值）\n",
    "- 5. 对于数字的处理： 分词完只有有些单词可能就是数字比如44，415，把所有这些数字都看成是一个单词，这个新的单词我们可以定义为 \"#number\"\n",
    "- 6. lemmazation： 在这里不要使用stemming， 因为stemming的结果有可能不是valid word。\n"
   ]
  },
  {
   "cell_type": "code",
   "execution_count": 5,
   "metadata": {},
   "outputs": [
    {
     "name": "stdout",
     "output_type": "stream",
     "text": [
      "130319\n",
      "when beyonce start become popular\n"
     ]
    }
   ],
   "source": [
    "# TODO： 需要做文本方面的处理。 从上述几个常用的方法中选择合适的方法给qlist做预处理（不一定要按照上面的顺序，不一定要全部使用）\n",
    "from nltk.corpus import stopwords\n",
    "from nltk.stem import WordNetLemmatizer\n",
    "import re\n",
    "\n",
    "# 停用词表\n",
    "s_words = stopwords.words('english')\n",
    "# lemmatizer\n",
    "lemmatizer = WordNetLemmatizer()\n",
    "# 去除标点\n",
    "remove_punct_map = {c: None for c in '?!@#$%^&*()~`,./|'}\n",
    "# 去掉频次低的词\n",
    "low_freg_words = {value[0]: None for value in word_dict.items() if value[1] < 1}\n",
    "\n",
    "def sent_preprocess(q):\n",
    "    words = q.split(' ')\n",
    "    new_q = ''\n",
    "    for word in words:\n",
    "        if word not in s_words:  # 1. 停用词过滤\n",
    "            if word not in low_freg_words:  # 4. 去掉频次低的词\n",
    "                word = ''.join(c for c in word if c not in remove_punct_map)  # 3.去掉标点符号\n",
    "                if word and len(word) > 0:\n",
    "                    if re.match('[1234567890]+$', word):  # 5. 数字的处理\n",
    "                        word = '#number'\n",
    "                    word =lemmatizer.lemmatize(word, 'n')  # 6. lemmazation\n",
    "                    word =lemmatizer.lemmatize(word, 'v')  # 6. lemmazation\n",
    "                    word =lemmatizer.lemmatize(word, 'a')  # 6. lemmazation\n",
    "                    new_q += word.lower() + ' '  # 2. 转换成lower_case\n",
    "    return new_q.strip()\n",
    "\n",
    "def corpus_preprocess(corpus):\n",
    "    qlist_new = []\n",
    "    for q in corpus:\n",
    "        new_q = sent_preprocess(q)\n",
    "        qlist_new.append(new_q)\n",
    "    corpus.clear()\n",
    "    del corpus\n",
    "    qlist = qlist_new\n",
    "    return qlist\n",
    "\n",
    "qlist = corpus_preprocess(qlist)\n",
    "print(len(qlist))\n",
    "print(qlist[0])"
   ]
  },
  {
   "cell_type": "markdown",
   "metadata": {},
   "source": [
    "### 第二部分： 文本的表示\n",
    "当做完必要的文本处理之后就需要想办法表示文本了，这里有几种方式\n",
    "\n",
    "- 1. 使用```tf-idf vector```\n",
    "- 2. 使用embedding技术如```word2vec```, ```bert embedding```等\n",
    "\n",
    "下面我们分别提取这三个特征来做对比。 "
   ]
  },
  {
   "cell_type": "markdown",
   "metadata": {},
   "source": [
    "#### 2.1 使用tf-idf表示向量\n",
    "把```qlist```中的每一个问题的字符串转换成```tf-idf```向量, 转换之后的结果存储在```X```矩阵里。 ``X``的大小是： ``N* D``的矩阵。 这里``N``是问题的个数（样本个数），\n",
    "``D``是词典库的大小"
   ]
  },
  {
   "cell_type": "code",
   "execution_count": 6,
   "metadata": {},
   "outputs": [
    {
     "name": "stdout",
     "output_type": "stream",
     "text": [
      "acsi\n",
      "[0. 0. 0. ... 0. 0. 0.]\n",
      "36464\n"
     ]
    }
   ],
   "source": [
    "# TODO \n",
    "from sklearn.feature_extraction.text import TfidfVectorizer\n",
    "vectorizer = TfidfVectorizer()  # 定义一个tf-idf的vectorizer\n",
    "def get_tfidf(corpus):\n",
    "    tfidf = vectorizer.fit_transform(corpus)\n",
    "    feature_name = vectorizer.get_feature_names()\n",
    "    X_tfidf = tfidf.toarray()  # 结果存放在X矩阵里\n",
    "    return feature_name, X_tfidf\n",
    "\n",
    "feature_name, X_tfidf = get_tfidf(qlist)\n",
    "print(feature_name[1000])\n",
    "print(X_tfidf[1000])\n",
    "print(len(X_tfidf[1000]))"
   ]
  },
  {
   "cell_type": "markdown",
   "metadata": {},
   "source": [
    "#### 2.2 使用wordvec + average pooling\n",
    "词向量方面需要下载： https://nlp.stanford.edu/projects/glove/ （请下载``glove.6B.zip``），并使用``d=200``的词向量（200维）。国外网址如果很慢，可以在百度上搜索国内服务器上的。 每个词向量获取完之后，即可以得到一个句子的向量。 我们通过``average pooling``来实现句子的向量。 "
   ]
  },
  {
   "cell_type": "code",
   "execution_count": 7,
   "metadata": {},
   "outputs": [
    {
     "name": "stdout",
     "output_type": "stream",
     "text": [
      "[ 2.44401336e-01  1.69533506e-01 -2.95787960e-01 -3.60254906e-02\n",
      " -7.76728317e-02  7.53353313e-02 -5.96546568e-02  5.58315106e-02\n",
      " -9.87233296e-02  2.59259999e-01 -5.82441688e-02  1.93639159e-01\n",
      "  5.49300127e-02 -2.72316188e-01  7.63588324e-02  1.84849966e-02\n",
      " -3.12866509e-01  7.59326667e-02  2.92517175e-03  8.95233452e-03\n",
      "  2.02175006e-01  1.93125010e+00 -1.80546999e-01  1.18623495e-01\n",
      "  1.02749340e-01 -1.46301329e-01  1.71390176e-01  3.06191649e-02\n",
      " -1.41869172e-01 -4.69503403e-02  1.63173035e-01 -1.79898188e-01\n",
      " -1.56190991e-01  1.74681656e-02  1.32734999e-01 -5.30461557e-02\n",
      " -6.26438320e-01 -1.76456645e-01  1.19062504e-02  5.45099974e-02\n",
      " -1.11173332e-01  1.73779968e-02 -2.32961655e-01  2.16163378e-02\n",
      " -2.56808344e-02  2.29676679e-01  3.09808344e-01 -2.18818322e-01\n",
      "  1.71000266e-03  8.42657164e-02  1.07046617e-02 -4.44074012e-02\n",
      " -3.06236327e-01  4.23145205e-01  3.16258490e-01 -9.09015015e-02\n",
      " -1.99081838e-01  4.54799980e-02 -1.99109688e-01  1.93759486e-01\n",
      " -1.80815160e-01  5.99191636e-02 -2.38477170e-01 -2.96615046e-02\n",
      "  1.02630161e-01  5.86833358e-02 -1.21818006e-01  4.32366520e-01\n",
      "  1.18587337e-01 -3.45882684e-01  5.75326502e-01 -3.48901711e-02\n",
      " -2.50676665e-02  2.59271681e-01 -2.32683316e-01  7.57491589e-02\n",
      " -1.51174664e-01  1.12817325e-01 -2.04554677e-01  1.11820012e-01\n",
      " -1.49894997e-01  1.38968691e-01 -1.63360998e-01  1.25506327e-01\n",
      " -8.44333600e-03 -2.53566653e-02 -1.87106669e-01 -2.65978664e-01\n",
      "  5.01196325e-01 -7.99623311e-01  3.19767863e-01  4.89650154e-03\n",
      "  1.06468327e-01  3.35733593e-03 -4.83466797e-02  1.40290007e-01\n",
      "  1.58986673e-01 -1.75509825e-01 -1.69976160e-01 -2.56407499e-01\n",
      "  3.14802021e-01  2.40389988e-01 -2.55181819e-01  1.29312679e-01\n",
      "  2.81821519e-01 -5.34933358e-02 -6.55218288e-02  1.23561656e+00\n",
      " -3.51186663e-01 -2.10441664e-01 -8.61400068e-02 -8.77970085e-02\n",
      "  1.48319900e-02  8.73799920e-02 -9.75201502e-02 -2.46790335e-01\n",
      "  1.08061828e-01  1.02629282e-01 -1.65449664e-01 -4.59723361e-02\n",
      "  6.59188256e-02  6.85021654e-02  2.07206681e-01 -1.29525334e-01\n",
      " -5.00749750e-03 -3.51659656e-01  3.13316673e-01  7.35616684e-02\n",
      "  1.58213004e-01 -3.60799991e-02 -2.00119838e-01  2.24033254e-03\n",
      "  6.63499907e-02 -2.16075003e-01 -1.09914996e-01  4.90238331e-02\n",
      "  1.36128828e-01 -4.35599983e-02 -1.38522506e-01  4.75044996e-02\n",
      " -1.77409515e-01 -1.21119946e-01  7.66261667e-02 -1.09327853e-01\n",
      "  6.77423000e-01  3.07828337e-01 -2.10782006e-01 -2.75665015e-01\n",
      "  5.70753366e-02  5.12239970e-02  1.09362833e-01  4.02809829e-01\n",
      " -7.26982877e-02  9.15553272e-02  5.32266609e-02 -8.77330080e-02\n",
      " -4.70781624e-02  2.50976626e-02 -3.15162659e-01 -3.76013331e-02\n",
      " -1.83775559e-01 -2.05784246e-01  1.35185346e-01  6.76944926e-02\n",
      " -1.03205502e-01  3.76821667e-01  3.56300145e-01 -8.38923231e-02\n",
      " -4.55686182e-01  9.96783376e-02  7.93583319e-02 -8.79416615e-03\n",
      "  4.15918380e-01  9.90191698e-02  1.74345016e-01 -3.59274708e-02\n",
      " -1.54473320e-01 -2.59864926e-01 -8.72159973e-02  1.17988504e-01\n",
      "  9.09769118e-01 -4.54111695e-02 -2.67951339e-01  4.35654856e-02\n",
      "  3.51866670e-02  8.54403377e-02 -8.79366789e-03  3.30091625e-01\n",
      " -1.47824446e-02  8.33700076e-02 -1.50645837e-01  1.70735523e-01\n",
      " -7.79466704e-02  1.71418488e-01  1.27749993e-02  8.31458345e-02\n",
      " -7.22500011e-02  2.99642324e-01 -7.88000505e-03  1.28967509e-01]\n"
     ]
    }
   ],
   "source": [
    "# TODO 基于Glove向量获取句子向量\n",
    "import numpy as np\n",
    "\n",
    "glove_emb_dic = {}\n",
    "with open('glove.6B.200d.txt', 'r') as f:\n",
    "    lines = f.readlines()\n",
    "    for line in lines:\n",
    "        glove_emb_dic[line[0: line.index(' ')]] = line[line.index(' ') + 1:].split()\n",
    "            \n",
    "def get_sent_w2v(corpus):\n",
    "    word = list(glove_emb_dic.keys())\n",
    "    emb = list(glove_emb_dic.values())  # 这是 D*H的矩阵，这里的D是词典库的大小， H是词向量的大小。 这里面我们给定的每个单词的词向量，\n",
    "    emb_size = len(emb[0])\n",
    "    unknown_word = np.zeros(emb_size, dtype=np.float32)  # unknown word, 没有用random生成是希望句子向量对未知词加0，不受影响\n",
    "    sent_w2v = []\n",
    "    for q in corpus:\n",
    "        emb_sent = np.zeros(emb_size, dtype=np.float32)\n",
    "        words = q.split(' ')\n",
    "        for w in words:\n",
    "            if w in glove_emb_dic:\n",
    "                w_emb = np.array(glove_emb_dic[w], dtype=np.float32)\n",
    "            else:\n",
    "                w_emb = unknown_word\n",
    "            emb_sent = emb_sent + w_emb\n",
    "        sent_w2v.append(emb_sent/len(words))\n",
    "    X_w2v = sent_w2v # 初始化完emb之后就可以对每一个句子来构建句子向量了，这个过程使用average pooling来实现\n",
    "    return X_w2v\n",
    "\n",
    "X_w2v = get_sent_w2v(qlist)\n",
    "print(X_w2v[1])"
   ]
  },
  {
   "cell_type": "markdown",
   "metadata": {},
   "source": [
    "#### 2.3 使用BERT + average pooling\n",
    "最近流行的BERT也可以用来学出上下文相关的词向量（contex-aware embedding）， 在很多问题上得到了比较好的结果。在这里，我们不做任何的训练，而是直接使用已经训练好的BERT embedding。 具体如何训练BERT将在之后章节里体会到。 为了获取BERT-embedding，可以直接下载已经训练好的模型从而获得每一个单词的向量。可以从这里获取： https://github.com/imgarylai/bert-embedding , 请使用```bert_12_768_12```\t当然，你也可以从其他source获取也没问题，只要是合理的词向量。 "
   ]
  },
  {
   "cell_type": "code",
   "execution_count": 25,
   "metadata": {},
   "outputs": [
    {
     "name": "stdout",
     "output_type": "stream",
     "text": [
      "[ 5.18380761e-01 -5.85241973e-01  1.16165435e+00 -1.73536867e-01\n",
      "  1.03669119e+00 -1.22824848e+00  1.99664342e+00  9.59930301e-01\n",
      " -9.00612921e-02 -1.96175471e-01 -1.33799523e-01 -1.25432479e+00\n",
      "  6.91708744e-01  1.18254113e+00 -1.21475661e+00 -2.13918686e-02\n",
      " -2.23426193e-01 -9.62670445e-02 -7.46273026e-02  1.44981456e+00\n",
      "  5.21294653e-01 -1.07935950e-01 -6.59069896e-01 -1.92722291e-01\n",
      "  7.56630540e-01 -7.11593211e-01 -8.70733023e-01 -1.93741724e-01\n",
      "  3.83256555e-01 -1.31452799e-01  1.03608406e+00 -4.09107089e-01\n",
      " -2.03279331e-01  6.35055006e-01 -8.96110058e-01 -1.87724218e-01\n",
      "  7.99517184e-02  1.40498742e-01 -5.75890064e-01  1.60341933e-01\n",
      " -5.28313458e-01 -1.66655231e+00  4.53067005e-01  9.03876066e-01\n",
      " -5.70100844e-01 -1.61203337e+00  1.78348660e+00  2.41342092e+00\n",
      "  7.40688622e-01 -1.40147161e+00  4.66768384e-01  6.67461574e-01\n",
      " -1.64397389e-01 -9.73392665e-01 -7.13955522e-01  1.40402114e+00\n",
      "  1.54435134e+00 -1.29481867e-01  9.58284438e-02  7.99035251e-01\n",
      "  5.52972853e-01  2.54606634e-01  5.25368214e-01 -2.45210099e+00\n",
      "  6.74492180e-01 -3.37182105e-01 -3.15509647e-01  3.11366588e-01\n",
      " -9.93025124e-01 -2.75424421e-01 -1.70179772e+00 -4.72937882e-01\n",
      " -1.05594969e+00  1.07673538e+00 -1.50112748e+00  5.76165736e-01\n",
      "  5.24475276e-01  1.02621269e+00  1.22212195e+00 -9.28946078e-01\n",
      " -3.11751395e-01  7.93729424e-01 -3.16920340e-01  1.91971946e+00\n",
      " -4.16280150e-01  3.90885919e-01 -3.59633774e-01  2.23244637e-01\n",
      " -9.10829902e-01  1.22655642e+00 -2.82099903e-01 -1.72503561e-01\n",
      "  4.47449058e-01  6.70756340e-01  1.43309808e+00  7.35411286e-01\n",
      "  1.08186699e-01 -7.00037718e-01  6.23960853e-01  1.25141323e+00\n",
      " -1.16332397e-01 -1.75521088e+00 -1.41137874e+00 -2.46964037e-01\n",
      "  7.79477358e-02 -5.94237506e-01 -2.02349767e-01  1.87778151e+00\n",
      " -4.89752442e-02 -1.40188265e+00 -4.12793547e-01  4.52713966e-01\n",
      "  7.27205575e-01  7.83778131e-02 -1.15057480e+00  1.38485408e+00\n",
      "  1.64756775e+00 -8.36354852e-01 -6.16675138e-01  1.37261915e+00\n",
      " -2.66601562e-01 -4.46013212e-01  3.23541701e-01  2.75129557e+00\n",
      "  4.08056051e-01  2.27000892e-01 -2.39524264e-02  8.62793922e-01\n",
      "  1.81488991e-01 -8.02521706e-01 -9.19241607e-01  7.00096667e-01\n",
      " -5.49909413e-01 -2.04718685e+00  1.26691848e-01 -2.98428744e-01\n",
      "  4.34805229e-02 -8.07519108e-02 -7.10017607e-02  9.83061492e-01\n",
      "  1.26635051e+00  3.48560274e-01 -1.48295462e-02  2.47524366e-01\n",
      "  1.02000189e+00  9.25067067e-02 -9.66053367e-01 -7.74346828e-01\n",
      " -1.23788878e-01 -1.92266405e-02 -5.19359231e-01 -4.43655461e-01\n",
      " -1.43965852e+00  2.87021369e-01 -1.89626789e+00  3.93854558e-01\n",
      " -6.67513967e-01 -6.99611604e-01  2.17927709e-01 -4.67703342e-01\n",
      "  8.38614404e-01 -1.61991224e-01  7.72456944e-01  1.22882575e-01\n",
      " -8.76605093e-01 -3.22609007e-01  1.10854578e+00  2.07944226e+00\n",
      "  2.36400172e-01 -6.41225815e-01  1.53912827e-01  5.97862542e-01\n",
      "  1.24013305e+00  9.13015127e-01  2.00809449e-01 -1.07457206e-01\n",
      " -4.14611340e-01 -2.29012698e-01  4.84681278e-01  1.88034654e+00\n",
      " -7.77027547e-01  2.06894255e+00  2.19541502e+00  2.64605433e-01\n",
      "  5.55497527e-01  5.08668125e-02  5.01305282e-01 -1.76564440e-01\n",
      "  8.00303042e-01  5.76196134e-01  5.32577634e-01  5.56468666e-01\n",
      " -1.95835960e+00  1.30738008e+00  1.81790382e-01 -1.64610779e+00\n",
      " -1.56576559e-01 -1.32943308e+00 -9.40232337e-01 -8.65419954e-03\n",
      " -1.11758888e-01 -2.96736896e-01 -2.10533857e-01 -2.27285385e-01\n",
      " -1.21457577e+00 -1.50164098e-01  2.50071287e-01  3.76749754e-01\n",
      " -2.81813592e-01  1.08634293e+00 -3.52721274e-01  7.30023623e-01\n",
      "  3.51997703e-01 -3.10159415e-01 -1.44632161e-02 -8.77499998e-01\n",
      " -1.62440920e+00  1.36893177e+00 -7.89457440e-01  4.07548845e-01\n",
      " -2.00007811e-01  8.63114357e-01 -1.54959941e+00  8.74540091e-01\n",
      "  1.55458778e-01  7.80229688e-01 -6.39785349e-01  1.21282592e-01\n",
      " -1.81764269e+00  9.07089293e-01 -4.25755620e-01  5.84019303e-01\n",
      "  1.84331787e+00  1.05359864e+00 -6.51045799e-01 -1.30907416e-01\n",
      " -3.87766093e-01 -2.38230467e-01 -3.21665674e-01 -1.88610530e+00\n",
      " -1.40872538e+00  1.04756594e+00  8.33512843e-01 -1.20222163e+00\n",
      " -4.82244790e-01 -7.35380948e-01 -7.69733846e-01 -1.14571619e+00\n",
      " -1.05542564e+00 -2.22973883e-01 -5.39674103e-01 -2.15042448e+00\n",
      "  3.47282410e-01 -1.47326159e+00  3.95578146e-02 -8.66478443e-01\n",
      " -2.45836228e-01 -1.84373677e-01 -5.22533178e-01  2.58828402e-01\n",
      "  9.55936462e-02 -7.49050006e-02  9.11791265e-01  1.06320441e+00\n",
      " -5.51626980e-01 -1.28317738e+00 -8.00207853e-01  9.27332878e-01\n",
      "  4.48848486e-01  2.71226704e-01  1.05065480e-01  4.29158419e-01\n",
      "  1.00319493e+00  1.10957193e+00  3.06687504e-01 -2.15882421e+00\n",
      "  2.46266127e-01  1.29616070e+00  1.40093875e+00 -1.48790646e+00\n",
      "  1.02333200e+00  3.51595044e+00  3.80679131e-01 -6.34440720e-01\n",
      "  2.95517445e-02 -1.00892329e+00 -1.83498180e+00 -6.83193207e-02\n",
      "  8.73994410e-01 -2.60819912e+00 -1.57525492e+00  1.47151679e-01\n",
      " -8.47260952e-01 -1.05976272e+00  7.40974844e-01 -1.43406320e+00\n",
      " -2.70678282e-01  1.91053227e-02 -1.36844158e-01  2.36048579e-01\n",
      " -1.38506305e+00  6.61191523e-01  3.10668319e-01  1.21552038e+00\n",
      " -1.27874315e+00  4.29485321e-01 -1.72076225e-01 -4.14723247e-01\n",
      " -1.05727854e+01  4.40219879e-01  2.84978986e-01 -6.57493055e-01\n",
      "  8.92561436e-01 -1.97707510e+00  1.95551485e-01 -1.03114307e+00\n",
      " -1.18920851e+00  3.78549993e-01 -2.50757337e-01 -5.91902018e-01\n",
      " -2.17224598e-01  1.33333123e+00 -1.11605358e+00  6.06080592e-01\n",
      "  5.61085999e-01 -1.24869156e+00 -1.44833958e+00  1.92530799e+00\n",
      " -2.22446024e-02 -1.17277491e+00  9.81334507e-01 -8.31350386e-01\n",
      "  1.27142358e+00  2.87878513e-03 -9.10335958e-01  1.06587505e+00\n",
      "  5.90664566e-01  2.27648824e-01  2.91985601e-01  6.52162075e-01\n",
      "  7.22870290e-01 -1.02131248e+00 -8.52631927e-01  1.24176419e+00\n",
      "  4.85459805e-01 -2.80070752e-01  8.65623832e-01 -3.02135140e-01\n",
      " -4.76561427e-01 -4.38952684e-01 -8.59685898e-01  9.77697372e-01\n",
      "  1.66553545e+00 -3.48471925e-02 -2.48646468e-01  7.53676891e-01\n",
      " -1.05572355e+00  6.32231832e-02  2.25747824e-01 -7.31721103e-01\n",
      "  2.55444348e-01 -1.10711515e+00 -2.15996534e-01 -4.44161117e-01\n",
      "  1.17316592e+00  8.60229731e-01 -5.72112620e-01 -2.47658968e+00\n",
      "  1.48306757e-01  6.89937711e-01 -7.80389428e-01 -1.13586795e+00\n",
      "  1.54802889e-01 -5.03241122e-01 -6.32775187e-01 -2.23333389e-01\n",
      "  6.92220509e-01  5.96140444e-01 -1.55933887e-01 -1.08231395e-01\n",
      " -6.04275942e-01 -2.84528875e+00 -9.24817920e-01 -5.41741371e-01\n",
      "  8.29992115e-01  8.27481210e-01  4.72955704e-01 -3.69662225e-01\n",
      " -1.14407504e+00  1.12391603e+00  7.09310055e-01 -1.12397313e+00\n",
      " -5.33070505e-01  2.96367444e-02  7.85578012e-01  2.93134451e-01\n",
      " -1.06227207e+00 -3.88828754e-01  1.58785105e+00 -2.59306639e-01\n",
      "  1.04869699e+00  5.52516401e-01  9.96325850e-01 -9.25723195e-01\n",
      "  1.17053151e+00 -1.04965508e+00  1.23175097e+00 -1.18522120e+00\n",
      "  8.92590761e-01  7.86802113e-01  1.10779130e+00 -1.01833773e+00\n",
      "  1.30806935e+00 -1.22359061e+00 -6.03462040e-01  7.42033899e-01\n",
      " -7.99163461e-01 -3.40785742e-01  6.94661140e-01 -2.38832951e+00\n",
      "  1.05921364e+00 -1.71923959e+00 -8.57268751e-01 -5.81777617e-02\n",
      "  1.19588995e+00  9.49364960e-01  7.48393595e-01  8.38640034e-02\n",
      " -6.36202633e-01  1.23622298e+00 -1.49574256e+00 -1.92717624e+00\n",
      "  1.69862956e-01  4.61516619e-01 -1.61661100e+00  2.54433274e-01\n",
      " -1.26946437e+00  1.24033606e+00 -5.65332353e-01 -9.66920733e-01\n",
      " -2.22009435e-01 -2.07022235e-01  4.89645004e-02 -9.11565900e-01\n",
      "  4.38830405e-02 -1.85837626e+00  1.07046640e+00 -4.61420923e-01\n",
      " -1.00008988e+00 -1.24009520e-01  1.31062031e-01  5.40396795e-02\n",
      "  1.92778289e+00 -3.80021453e-01 -1.29378945e-01 -8.18458676e-01\n",
      "  1.20790951e-01  8.13955069e-01 -1.31283498e+00 -1.16938734e+00\n",
      " -9.13491249e-01 -1.94496453e-01  1.29313099e+00 -6.95476890e-01\n",
      "  1.30798650e+00 -1.10720658e+00 -9.88730073e-01 -1.70438886e+00\n",
      " -8.48753452e-01 -9.40500140e-01  4.47726130e-01 -9.52260792e-02\n",
      " -1.12410212e+00  1.41674161e+00  2.27392271e-01  7.26707578e-01\n",
      " -2.79888630e-01  2.94925988e-01  6.15106046e-01 -1.14488766e-01\n",
      " -1.83464706e-01 -1.43968749e+00 -1.16326118e+00  1.15543997e+00\n",
      "  6.76103115e-01  7.76469111e-01 -1.10218716e+00  1.27243638e+00\n",
      " -8.93508255e-01 -5.14448643e-01 -9.16084945e-01 -1.11681306e+00\n",
      "  4.86014962e-01  1.77131474e+00 -1.39480972e+00 -9.27236199e-01\n",
      " -1.16080940e-01  1.64612842e+00 -5.46669543e-01  1.59363532e+00\n",
      " -9.54671323e-01 -2.02496007e-01 -1.32433608e-01 -1.41324925e+00\n",
      "  1.30167472e+00  5.97894669e-01  5.45551181e-01  7.70267367e-01\n",
      "  4.44764525e-01  2.13659555e-01  1.23024178e+00  3.03521663e-01\n",
      "  1.61774778e+00 -6.41120315e-01  5.59525728e-01  1.39674938e+00\n",
      " -3.18778396e-01  5.16690910e-01 -3.05614024e-01 -1.02768278e+00\n",
      "  2.44058937e-01 -1.59575975e+00  6.47159159e-01 -3.26487064e-01\n",
      "  3.51319134e-01 -1.37400460e+00 -6.00272655e-01  1.48561239e-01\n",
      " -9.15568471e-01 -8.83114934e-01 -8.61600459e-01  9.46681678e-01\n",
      " -1.48337698e+00 -1.02690411e+00 -5.72668433e-01  3.06673944e-01\n",
      " -1.08394742e+00 -8.44468117e-01 -1.16967902e-01 -9.74725842e-01\n",
      "  1.03515267e+00  1.91705608e+00  9.01246548e-01  4.36883688e-01\n",
      " -5.77467442e-01  1.03158271e+00  2.16596055e+00 -2.81931221e-01\n",
      " -1.45176148e+00 -2.33965158e+00 -9.38092470e-01 -1.41912425e+00\n",
      "  1.21508348e+00  8.57955396e-01 -5.94462276e-01  1.62974083e+00\n",
      "  2.62957603e-01  1.43363738e+00  7.85852432e-01  1.04568040e+00\n",
      "  4.26780343e-01 -4.78327602e-01 -8.44189346e-01 -2.70914602e+00\n",
      " -1.95901012e+00 -6.91710040e-02 -6.47749186e-01  3.35080862e-01\n",
      " -1.49282306e-01  8.43997300e-01  1.13919936e-01 -9.24377143e-02\n",
      "  5.07816195e-01  1.65379882e+00 -1.11644790e-02  1.85965133e+00\n",
      " -2.78939247e-01 -5.49982414e-02  4.46369648e-02 -1.90190554e+00\n",
      "  8.21862876e-01 -8.39291871e-01 -7.36718297e-01  3.77920628e-01\n",
      " -9.61490035e-01 -2.64525366e+00  3.08173478e-01  1.26356900e+00\n",
      "  3.37118030e-01  2.05853772e+00 -8.26064706e-01 -2.11675930e+00\n",
      "  1.10537934e+00 -4.60093170e-02  4.07966435e-01  9.97129619e-01\n",
      " -3.64423752e-01  2.89035290e-01  3.54171097e-01  6.09032273e-01\n",
      " -1.29121304e+00  9.16335583e-01 -3.59395891e-01  9.22722697e-01\n",
      "  1.13079262e+00 -1.62818670e+00  8.61277580e-01  6.80309892e-01\n",
      " -1.52313042e+00 -1.53715730e-01  7.42245436e-01  1.26821601e+00\n",
      " -1.50444746e+00 -4.79311466e-01  1.03482521e+00 -3.99127454e-01\n",
      "  4.93008077e-01  5.30921996e-01 -1.17605329e+00 -5.36111653e-01\n",
      " -3.58623117e-02  1.03442752e+00 -1.13330871e-01 -4.13365573e-01\n",
      "  1.18132830e+00  5.08064806e-01 -8.26455057e-02  3.26190591e-01\n",
      " -2.75454074e-01 -1.90746605e-01  7.42983222e-01 -1.50629675e+00\n",
      "  1.63615048e+00  1.37340546e+00 -1.59979606e+00  1.69682121e+00\n",
      "  3.04335117e-01  1.14505994e+00  1.00809062e+00 -6.14932030e-02\n",
      "  7.95684218e-01  1.86562634e+00 -3.76951247e-02 -3.77447665e-01\n",
      " -1.07965422e+00  9.69938219e-01  3.52273762e-01 -3.91816825e-01\n",
      "  9.14142489e-01  2.95351177e-01  1.09322822e+00  1.68831742e+00\n",
      "  7.58407712e-02  1.04268849e-01 -7.64948010e-01 -6.52887523e-01\n",
      "  2.72234702e+00  4.12285268e-01  8.57898235e-01 -6.21804148e-02\n",
      "  3.25394154e-01 -4.78526562e-01  2.31582117e+00 -9.42033529e-02\n",
      "  1.14822519e+00  8.49011481e-01 -5.88399529e-01  4.01799649e-01\n",
      "  4.11822319e-01 -1.40440452e+00  5.17484248e-01 -1.49564958e+00\n",
      "  1.22000492e+00  1.37977004e+00  2.96916217e-01  4.31344032e-01\n",
      " -4.92019176e-01 -6.66532695e-01  4.47566211e-01 -9.27756011e-01\n",
      "  1.31667942e-01 -2.98847884e-01 -5.22952974e-01 -3.03573221e-01\n",
      "  3.38883370e-01 -6.68431759e-01 -9.27382886e-01  6.29685223e-01\n",
      "  5.05460203e-01 -8.59626085e-02 -6.70909643e-01 -5.79417169e-01\n",
      " -7.59331405e-01 -1.38301814e+00 -1.76746297e+00  4.70367312e-01\n",
      "  1.94136739e-01 -1.83243370e+00  9.10665333e-01  1.00046682e+00\n",
      "  5.28190255e-01 -3.40797693e-01 -1.44083273e+00 -4.63012844e-01\n",
      "  1.19212651e+00  5.40552437e-01  5.07469714e-01  7.75442719e-02\n",
      "  1.26976275e+00 -5.49433589e-01 -7.32784867e-01 -1.46090627e+00\n",
      "  1.13969088e-01  1.44691348e+00 -9.97698665e-01  4.09083098e-01\n",
      " -3.03176418e-02  1.40016270e+00 -1.66343093e+00  5.18575966e-01\n",
      " -2.35731077e+00  7.03279912e-01 -9.03477296e-02  1.14357448e+00\n",
      "  5.03704607e-01  7.45666862e-01  5.18526316e-01 -5.69051981e-01\n",
      " -2.01389217e+00 -5.37504613e-01  5.67762479e-02  1.51966357e+00\n",
      " -3.91334474e-01 -1.81283325e-01 -1.38573956e+00  1.60147262e+00\n",
      "  7.22636282e-01 -1.25214732e+00 -1.56102562e+00  7.13586569e-01\n",
      "  1.96585584e+00 -8.58943641e-01  5.53478599e-01 -5.57502568e-01\n",
      " -3.49862397e-01  1.52862102e-01 -2.21763197e-02 -2.75863826e-01\n",
      " -2.13458955e-01  1.09779406e+00 -1.97901678e+00  9.61230993e-02\n",
      "  2.27592140e-01 -6.54319942e-01 -5.78613281e-01  4.25238848e-01\n",
      "  8.79302502e-01 -1.67018247e+00  1.71161866e+00 -7.78599203e-01\n",
      "  5.88487089e-01  1.14547539e+00  2.81102300e-01 -1.49171185e+00\n",
      "  6.37074351e-01 -1.08139527e+00  4.64481890e-01 -1.52829552e+00]\n"
     ]
    }
   ],
   "source": [
    "# TODO 基于BERT的句子向量计算\n",
    "from bert_embedding import BertEmbedding\n",
    "import numpy as np\n",
    "\n",
    "def get_sent_bert(corpus):\n",
    "    sentenses = corpus\n",
    "    bert_embedding = BertEmbedding()\n",
    "    result = bert_embedding(sentenses)\n",
    "    temp_X_bert = []\n",
    "    for sent in result:\n",
    "        w_sent = sent[0]\n",
    "        emb_size = len(sent[1][0])\n",
    "        emb_sent = np.zeros(emb_size, dtype=np.float32)\n",
    "        for emb in sent[1]:\n",
    "            emb_word = np.array(emb, dtype=np.float32)\n",
    "            emb_sent = emb_sent + emb_word\n",
    "        temp_X_bert.append(emb_sent/len(sent))\n",
    "    X_bert = temp_X_bert  # 每一个句子的向量结果存放在X_bert矩阵里。行数为句子的总个数，列数为一个句子embedding大小。\n",
    "    return X_bert\n",
    "    \n",
    "X_bert = get_sent_bert(qlist)\n",
    "print(X_bert[0])"
   ]
  },
  {
   "cell_type": "markdown",
   "metadata": {},
   "source": [
    "### 第三部分： 相似度匹配以及搜索\n",
    "在这部分里，我们需要把用户每一个输入跟知识库里的每一个问题做一个相似度计算，从而得出最相似的问题。但对于这个问题，时间复杂度其实很高，所以我们需要结合倒排表来获取相似度最高的问题，从而获得答案。"
   ]
  },
  {
   "cell_type": "markdown",
   "metadata": {},
   "source": [
    "#### 3.1 tf-idf + 余弦相似度\n",
    "我们可以直接基于计算出来的``tf-idf``向量，计算用户最新问题与库中存储的问题之间的相似度，从而选择相似度最高的问题的答案。这个方法的复杂度为``O(N)``， ``N``是库中问题的个数。"
   ]
  },
  {
   "cell_type": "code",
   "execution_count": 8,
   "metadata": {},
   "outputs": [],
   "source": [
    "from sklearn.metrics.pairwise import cosine_similarity\n",
    "import heapq\n",
    "\n",
    "def get_top_results_tfidf_noindex(query):\n",
    "    # TODO 需要编写\n",
    "    \"\"\"\n",
    "    给定用户输入的问题 query, 返回最有可能的TOP 5问题。这里面需要做到以下几点：\n",
    "    1. 对于用户的输入 query 首先做一系列的预处理(上面提到的方法)，然后再转换成tf-idf向量（利用上面的vectorizer)\n",
    "    2. 计算跟每个库里的问题之间的相似度\n",
    "    3. 找出相似度最高的top5问题的答案\n",
    "    \"\"\"\n",
    "    query = sent_preprocess(query)\n",
    "    query_corpus = qlist.copy()\n",
    "    query_corpus.append(query)\n",
    "    tfidf = vectorizer.fit_transform(query_corpus)\n",
    "    query_tfidf = tfidf.toarray()[-1]\n",
    "    tasks = []\n",
    "    for idx, q_tfidf in enumerate(tfidf.toarray()[0: -1]):\n",
    "        sim = cosine_similarity([query_tfidf, q_tfidf])\n",
    "        sim_r = sim[0][1]\n",
    "        heapq.heappush(tasks, (sim_r, idx))\n",
    "        if len(tasks) > 5:\n",
    "            heapq.heappop(tasks)\n",
    "    top_idxs = []  # top_idxs存放相似度最高的（存在qlist里的）问题的下标\n",
    "    # hint: 请使用 priority queue来找出top results. 思考为什么可以这么做？\n",
    "    while tasks:\n",
    "        top_idxs.append(heapq.heappop(tasks)[1])\n",
    "    result = []\n",
    "    for idx in top_idxs:\n",
    "        result.append(alist[idx])\n",
    "    result.reverse()\n",
    "    return result  # 返回相似度最高的问题对应的答案，作为TOP5答案\n",
    "\n",
    "        \n",
    "#     return alist[top_idxs]  # 返回相似度最高的问题对应的答案，作为TOP5答案    "
   ]
  },
  {
   "cell_type": "code",
   "execution_count": 9,
   "metadata": {},
   "outputs": [
    {
     "name": "stdout",
     "output_type": "stream",
     "text": [
      "['in the late 1990s', 'Particularly since the 1950s, pro wrestling events have frequently been responsible for sellout crowds at large arenas', '2005', 'as early as 1520', 'her mother']\n",
      "['singing and dancing', 'Houston, Texas', 'Warsaw', 'Premier League and Football League', 'focus upon its niche attractions']\n"
     ]
    }
   ],
   "source": [
    "# TODO: 编写几个测试用例，并输出结果\n",
    "print (get_top_results_tfidf_noindex(\"When did Beyonce start becoming popular?\"))\n",
    "print (get_top_results_tfidf_noindex(\"What areas did Beyonce compete in when she was growing up?\"))"
   ]
  },
  {
   "cell_type": "markdown",
   "metadata": {},
   "source": [
    "你会发现上述的程序很慢，没错！ 是因为循环了所有库里的问题。为了优化这个过程，我们需要使用一种数据结构叫做```倒排表```。 使用倒排表我们可以把单词和出现这个单词的文档做关键。 之后假如要搜索包含某一个单词的文档，即可以非常快速的找出这些文档。 在这个QA系统上，我们首先使用倒排表来快速查找包含至少一个单词的文档，然后再进行余弦相似度的计算，即可以大大减少```时间复杂度```。"
   ]
  },
  {
   "cell_type": "markdown",
   "metadata": {},
   "source": [
    "#### 3.2 倒排表的创建\n",
    "倒排表的创建其实很简单，最简单的方法就是循环所有的单词一遍，然后记录每一个单词所出现的文档，然后把这些文档的ID保存成list即可。我们可以定义一个类似于```hash_map```, 比如 ``inverted_index = {}``， 然后存放包含每一个关键词的文档出现在了什么位置，也就是，通过关键词的搜索首先来判断包含这些关键词的文档（比如出现至少一个），然后对于candidates问题做相似度比较。"
   ]
  },
  {
   "cell_type": "code",
   "execution_count": 10,
   "metadata": {},
   "outputs": [
    {
     "name": "stdout",
     "output_type": "stream",
     "text": [
      "[0, 1, 2, 3, 4, 15, 16, 17, 18, 19, 21, 30, 31, 32, 33, 34, 40, 45, 46, 52, 54, 56, 58, 66, 70, 78, 83, 89, 91, 93, 94, 101, 110, 112, 113, 115, 117, 131, 141, 149, 154, 160, 161, 166, 173, 175, 176, 177, 179, 180, 187, 188, 189, 190, 191, 192, 193, 200, 201, 202, 203, 204, 205, 206, 207, 209, 214, 215, 216, 217, 225, 226, 227, 229, 230, 233, 240, 241, 244, 251, 252, 255, 266, 278, 279, 281, 283, 289, 290, 292, 293, 299, 300, 301, 302, 303, 304, 305, 306, 309, 314, 315, 317, 323, 324, 325, 326, 327, 329, 330, 336, 337, 360, 361, 362, 370, 371, 372, 379, 381, 383, 391, 392, 395, 396, 397, 399, 400, 412, 420, 421, 422, 423, 424, 425, 433, 443, 444, 445, 446, 454, 455, 456, 457, 458, 466, 467, 468, 473, 474, 475, 476, 485, 486, 489, 492, 497, 498, 499, 505, 506, 507, 508, 516, 517, 518, 519, 520, 526, 528, 529, 530, 531, 540, 546, 547, 548, 554, 555, 556, 557, 558, 564, 565, 574, 575, 576, 578, 586, 587, 588, 590, 591, 592, 601, 602, 606, 610, 611, 612, 613, 615, 625, 626, 627, 628, 629, 630, 631, 638, 639, 640, 642, 643, 650, 663, 664, 665, 666, 677, 683, 685, 692, 697, 698, 703, 704, 707, 708, 714, 715, 722, 723, 725, 726, 731, 732, 733, 735, 741, 742, 743, 745]\n"
     ]
    }
   ],
   "source": [
    "# TODO 请创建倒排表\n",
    "def get_inverted_idx(corpus):\n",
    "    inverted_idx = {}  # 定一个一个简单的倒排表，是一个map结构。 循环所有qlist一遍就可以\n",
    "    for idx, q in enumerate(corpus):\n",
    "        for word in q.split(' '):\n",
    "            if word in inverted_idx:\n",
    "                inverted_idx[word].append(idx)\n",
    "            else:\n",
    "                inverted_idx[word] = [idx]\n",
    "    return inverted_idx\n",
    "                \n",
    "inverted_idx = get_inverted_idx(qlist)\n",
    "print(inverted_idx.get('beyonce'))"
   ]
  },
  {
   "cell_type": "markdown",
   "metadata": {},
   "source": [
    "#### 3.3 语义相似度\n",
    "这里有一个问题还需要解决，就是语义的相似度。可以这么理解： 两个单词比如car, auto这两个单词长得不一样，但从语义上还是类似的。如果只是使用倒排表我们不能考虑到这些单词之间的相似度，这就导致如果我们搜索句子里包含了``car``, 则我们没法获取到包含auto的所有的文档。所以我们希望把这些信息也存下来。那这个问题如何解决呢？ 其实也不难，可以提前构建好相似度的关系，比如对于``car``这个单词，一开始就找好跟它意思上比较类似的单词比如top 10，这些都标记为``related words``。所以最后我们就可以创建一个保存``related words``的一个``map``. 比如调用``related_words['car']``即可以调取出跟``car``意思上相近的TOP 10的单词。 \n",
    "\n",
    "那这个``related_words``又如何构建呢？ 在这里我们仍然使用``Glove``向量，然后计算一下俩俩的相似度（余弦相似度）。之后对于每一个词，存储跟它最相近的top 10单词，最终结果保存在``related_words``里面。 这个计算需要发生在离线，因为计算量很大，复杂度为``O(V*V)``， V是单词的总数。 \n",
    "\n",
    "这个计算过程的代码请放在``related.py``的文件里，然后结果保存在``related_words.txt``里。 我们在使用的时候直接从文件里读取就可以了，不用再重复计算。所以在此notebook里我们就直接读取已经计算好的结果。 "
   ]
  },
  {
   "cell_type": "code",
   "execution_count": 11,
   "metadata": {},
   "outputs": [],
   "source": [
    "def get_related_words(file):\n",
    "    related_words = {}\n",
    "    with open('related_words.txt', 'r') as f:\n",
    "        lines = f.readlines()\n",
    "        for line in lines:\n",
    "            related_words[line[0: line.index('\\t')]] = line[line.index('\\t') + 1:].split(' ')\n",
    "    return related_words\n",
    "\n",
    "\n",
    "related_words = get_related_words('related_words.txt') # 直接放在文件夹的根目录下，不要修改此路径。"
   ]
  },
  {
   "cell_type": "markdown",
   "metadata": {},
   "source": [
    "#### 3.4 利用倒排表搜索\n",
    "在这里，我们使用倒排表先获得一批候选问题，然后再通过余弦相似度做精准匹配，这样一来可以节省大量的时间。搜索过程分成两步：\n",
    "\n",
    "- 使用倒排表把候选问题全部提取出来。首先，对输入的新问题做分词等必要的预处理工作，然后对于句子里的每一个单词，从``related_words``里提取出跟它意思相近的top 10单词， 然后根据这些top词从倒排表里提取相关的文档，把所有的文档返回。 这部分可以放在下面的函数当中，也可以放在外部。\n",
    "- 然后针对于这些文档做余弦相似度的计算，最后排序并选出最好的答案。\n",
    "\n",
    "可以适当定义自定义函数，使得减少重复性代码"
   ]
  },
  {
   "cell_type": "code",
   "execution_count": 12,
   "metadata": {},
   "outputs": [],
   "source": [
    "def get_q_candidates(query):\n",
    "    query = sent_preprocess(query)\n",
    "    candidates = set()\n",
    "    for word in query.split():\n",
    "        q_ids = inverted_idx.get(word)\n",
    "        if q_ids:\n",
    "            for q_id in q_ids:\n",
    "                candidates.add(q_id)\n",
    "                \n",
    "        related_w = related_words.get(word)     \n",
    "        if not related_w:\n",
    "            continue\n",
    "        for w in related_w:\n",
    "            q_ids = inverted_idx.get(w)\n",
    "            if q_ids:\n",
    "                for q_id in q_ids:\n",
    "                    candidates.add(q_id)\n",
    "    if len(candidates) == 0:\n",
    "        return None\n",
    "    else:\n",
    "        return list(candidates)\n",
    "        "
   ]
  },
  {
   "cell_type": "code",
   "execution_count": 13,
   "metadata": {},
   "outputs": [],
   "source": [
    "def get_top_results_tfidf(query):\n",
    "    \"\"\"\n",
    "    给定用户输入的问题 query, 返回最有可能的TOP 5问题。这里面需要做到以下几点：\n",
    "    1. 利用倒排表来筛选 candidate （需要使用related_words). \n",
    "    2. 对于候选文档，计算跟输入问题之间的相似度\n",
    "    3. 找出相似度最高的top5问题的答案\n",
    "    \"\"\"\n",
    "    # query的tfidf\n",
    "    query = sent_preprocess(query)\n",
    "    input_seq = query\n",
    "    input_vec = vectorizer.transform([input_seq])\n",
    "    query_tfidf = input_vec.toarray()[0]\n",
    "    \n",
    "    candidates = get_q_candidates(query)\n",
    "    if not candidates:\n",
    "        return None\n",
    "    tasks = []\n",
    "    for cand_id in candidates:\n",
    "        cand_tfidf = X_tfidf[cand_id]\n",
    "        sim = cosine_similarity([query_tfidf, cand_tfidf])\n",
    "        sim_r = sim[0][1]\n",
    "        heapq.heappush(tasks, (sim_r, cand_id))\n",
    "        if len(tasks) > 5:\n",
    "            heapq.heappop(tasks)\n",
    "        \n",
    "    top_idxs = []  # top_idxs存放相似度最高的（存在qlist里的）问题的下表 \n",
    "                   # hint: 利用priority queue来找出top results. 思考为什么可以这么做？ \n",
    "    while tasks:\n",
    "        task = heapq.heappop(tasks)\n",
    "        top_idxs.append(task[1])\n",
    "    result = []\n",
    "    for idx in top_idxs:\n",
    "        result.append(alist[idx])\n",
    "    result.reverse()\n",
    "    return result  # 返回相似度最高的问题对应的答案，作为TOP5答案\n",
    "\n",
    "    \n",
    "#     return alist[top_idxs]  # 返回相似度最高的问题对应的答案，作为TOP5答案"
   ]
  },
  {
   "cell_type": "code",
   "execution_count": 29,
   "metadata": {},
   "outputs": [],
   "source": [
    "def get_top_results_w2v(query):\n",
    "    \"\"\"\n",
    "    给定用户输入的问题 query, 返回最有可能的TOP 5问题。这里面需要做到以下几点：\n",
    "    1. 利用倒排表来筛选 candidate （需要使用related_words). \n",
    "    2. 对于候选文档，计算跟输入问题之间的相似度\n",
    "    3. 找出相似度最高的top5问题的答案\n",
    "    \"\"\"\n",
    "    \n",
    "    query = sent_preprocess(query)\n",
    "    emb_size = len(X_w2v[0])\n",
    "    emb_sent = np.zeros(emb_size, dtype=np.float32)\n",
    "    unknown_word = np.zeros(emb_size, dtype=np.float32)\n",
    "    for w in query.split(' '):\n",
    "        if w in glove_emb_dic:\n",
    "            w_emb = np.array(glove_emb_dic[w], dtype=np.float32)\n",
    "        else:\n",
    "            w_emb = unknown_word\n",
    "        emb_sent = emb_sent + w_emb\n",
    "    query_w2v = emb_sent/len(words)\n",
    "            \n",
    "    \n",
    "    candidates = get_q_candidates(query)\n",
    "    if not candidates:\n",
    "        return None\n",
    "    tasks = []\n",
    "    for cand_id in candidates:\n",
    "        cand_w2v = X_w2v[cand_id]\n",
    "        sim = cosine_similarity([query_w2v, cand_w2v])\n",
    "        sim_r = sim[0][1]\n",
    "        heapq.heappush(tasks, (sim_r, cand_id))\n",
    "        if len(tasks) > 5:\n",
    "            heapq.heappop(tasks)\n",
    "        \n",
    "    top_idxs = []  # top_idxs存放相似度最高的（存在qlist里的）问题的下表 \n",
    "                   # hint: 利用priority queue来找出top results. 思考为什么可以这么做？ \n",
    "    while tasks:\n",
    "        task = heapq.heappop(tasks)\n",
    "        top_idxs.append(task[1])\n",
    "    result = []\n",
    "    for idx in top_idxs:\n",
    "        result.append(alist[idx])\n",
    "    result.reverse()\n",
    "    return result  # 返回相似度最高的问题对应的答案，作为TOP5答案 \n",
    "    \n",
    "#     return alist[top_idxs]  # 返回相似度最高的问题对应的答案，作为TOP5答案"
   ]
  },
  {
   "cell_type": "code",
   "execution_count": 30,
   "metadata": {},
   "outputs": [
    {
     "name": "stdout",
     "output_type": "stream",
     "text": [
      "['in the late 1990s', 'Particularly since the 1950s, pro wrestling events have frequently been responsible for sellout crowds at large arenas', '2005', 'as early as 1520', 'her mother']\n",
      "['in the late 1990s', 'As of the 2010s', '2013', 'late 1990s', 'Particularly since the 1950s, pro wrestling events have frequently been responsible for sellout crowds at large arenas']\n",
      "['in the late 1990s', 'late 1990s', '2003', 'late 1990s', 'singing and dancing']\n",
      "['singing and dancing', 'Houston, Texas', 'Warsaw', 'Premier League and Football League', 'focus upon its niche attractions']\n",
      "['singing and dancing', 'Houston, Texas', 'secondary growth', 'church', 'Daytona Beach, Orlando, and Tampa/St. Petersburg, has had a fairly even breakdown of Republican and Democratic voters']\n",
      "['singing and dancing', 'Houston, Texas', 'late 1990s', 'in the late 1990s', 'lead singer']\n"
     ]
    }
   ],
   "source": [
    "# TODO: 编写几个测试用例，并输出结果\n",
    "\n",
    "test_query1 = \"When did Beyonce start becoming popular?\"\n",
    "test_query2 = \"What areas did Beyonce compete in when she was growing up?\"\n",
    "\n",
    "print (get_top_results_tfidf(test_query1))\n",
    "print (get_top_results_w2v(test_query1))\n",
    "print (get_top_results_bert(test_query1))\n",
    "\n",
    "print (get_top_results_tfidf(test_query2))\n",
    "print (get_top_results_w2v(test_query2))\n",
    "print (get_top_results_bert(test_query2))"
   ]
  },
  {
   "cell_type": "markdown",
   "metadata": {
    "pycharm": {
     "name": "#%% md\n"
    }
   },
   "source": [
    "### 4. 拼写纠错\n",
    "其实用户在输入问题的时候，不能期待他一定会输入正确，有可能输入的单词的拼写错误的。这个时候我们需要后台及时捕获拼写错误，并进行纠正，然后再通过修正之后的结果再跟库里的问题做匹配。这里我们需要实现一个简单的拼写纠错的代码，然后自动去修复错误的单词。\n",
    "\n",
    "这里使用的拼写纠错方法是课程里讲过的方法，就是使用noisy channel model。 我们回想一下它的表示：\n",
    "\n",
    "$c^* = \\text{argmax}_{c\\in candidates} ~~p(c|s) = \\text{argmax}_{c\\in candidates} ~~p(s|c)p(c)$\n",
    "\n",
    "这里的```candidates```指的是针对于错误的单词的候选集，这部分我们可以假定是通过edit_distance来获取的（比如生成跟当前的词距离为1/2的所有的valid 单词。 valid单词可以定义为存在词典里的单词。 ```c```代表的是正确的单词， ```s```代表的是用户错误拼写的单词。 所以我们的目的是要寻找出在``candidates``里让上述概率最大的正确写法``c``。 \n",
    "\n",
    "$p(s|c)$，这个概率我们可以通过历史数据来获得，也就是对于一个正确的单词$c$, 有百分之多少人把它写成了错误的形式1，形式2...  这部分的数据可以从``spell_errors.txt``里面找得到。但在这个文件里，我们并没有标记这个概率，所以可以使用uniform probability来表示。这个也叫做channel probability。\n",
    "\n",
    "$p(c)$，这一项代表的是语言模型，也就是假如我们把错误的$s$，改造成了$c$， 把它加入到当前的语句之后有多通顺？在本次项目里我们使用bigram来评估这个概率。 举个例子： 假如有两个候选 $c_1, c_2$， 然后我们希望分别计算出这个语言模型的概率。 由于我们使用的是``bigram``， 我们需要计算出两个概率，分别是当前词前面和后面词的``bigram``概率。 用一个例子来表示：\n",
    "\n",
    "给定： ``We are go to school tomorrow``， 对于这句话我们希望把中间的``go``替换成正确的形式，假如候选集里有个，分别是``going``, ``went``, 这时候我们分别对这俩计算如下的概率：\n",
    "$p(going|are)p(to|going)$和 $p(went|are)p(to|went)$， 然后把这个概率当做是$p(c)$的概率。 然后再跟``channel probability``结合给出最终的概率大小。\n",
    "\n",
    "那这里的$p(are|going)$这些bigram概率又如何计算呢？答案是训练一个语言模型！ 但训练一个语言模型需要一些文本数据，这个数据怎么找？ 在这次项目作业里我们会用到``nltk``自带的``reuters``的文本类数据来训练一个语言模型。当然，如果你有资源你也可以尝试其他更大的数据。最终目的就是计算出``bigram``概率。 "
   ]
  },
  {
   "cell_type": "markdown",
   "metadata": {},
   "source": [
    "#### 4.1 训练一个语言模型\n",
    "在这里，我们使用``nltk``自带的``reuters``数据来训练一个语言模型。 使用``add-one smoothing``"
   ]
  },
  {
   "cell_type": "code",
   "execution_count": 17,
   "metadata": {
    "pycharm": {
     "name": "#%%\n"
    }
   },
   "outputs": [],
   "source": [
    "from nltk.corpus import reuters\n",
    "import collections\n",
    "\n",
    "# 读取语料库的数据\n",
    "categories = reuters.categories()\n",
    "corpus = reuters.sents(categories=categories)\n",
    "\n",
    "# 循环所有的语料库并构建bigram probability. bigram[word1][word2]: 在word1出现的情况下下一个是word2的概率。 \n",
    "word_count_dict = collections.defaultdict(lambda: 0)\n",
    "word_bigram_dict = {}\n",
    "for corpu in corpus:\n",
    "    for index, word in enumerate(corpu):\n",
    "        word_count_dict[word] += 1\n",
    "        if index >= 1:\n",
    "            prev_word = corpu[index - 1]\n",
    "            if prev_word not in word_bigram_dict:\n",
    "                word_bigram_dict[prev_word] = {}\n",
    "            if word not in word_bigram_dict[prev_word]:\n",
    "                word_bigram_dict[prev_word][word] = 0\n",
    "            word_bigram_dict[prev_word][word] += 1\n",
    "\n",
    "V_words = len(word_count_dict.keys())\n",
    "\n",
    "for key_bigram in word_bigram_dict.keys():\n",
    "    for key_word in word_bigram_dict[key_bigram].keys():\n",
    "        word_bigram_dict[key_bigram][key_word] = (word_bigram_dict[key_bigram][key_word] + 1) / (word_count_dict[key_bigram])\n"
   ]
  },
  {
   "cell_type": "markdown",
   "metadata": {
    "pycharm": {
     "name": "#%% md\n"
    }
   },
   "source": [
    "#### 4.2 构建Channel Probs\n",
    "基于``spell_errors.txt``文件构建``channel probability``, 其中$channel[c][s]$表示正确的单词$c$被写错成$s$的概率。 "
   ]
  },
  {
   "cell_type": "code",
   "execution_count": 18,
   "metadata": {
    "pycharm": {
     "name": "#%%\n"
    }
   },
   "outputs": [],
   "source": [
    "# TODO 构建channel probability  \n",
    "channel = {}\n",
    "spell_error_dict = {}\n",
    "\n",
    "for line in open('spell-errors.txt'):\n",
    "    # TODO\n",
    "    item = line.split(\":\")\n",
    "    word = item[0].strip()\n",
    "    spell_error_list = [word.strip( )for word in item[1].strip().split(\",\")]\n",
    "    spell_error_dict[word] = spell_error_list\n",
    "\n",
    "for key in spell_error_dict:\n",
    "    if key not in channel:\n",
    "        channel[key] = {}\n",
    "        for value in spell_error_dict[key]:\n",
    "            channel[key][value] = 1 / len(spell_error_dict[key])\n",
    "            "
   ]
  },
  {
   "cell_type": "markdown",
   "metadata": {
    "pycharm": {
     "name": "#%% md\n"
    }
   },
   "source": [
    "#### 4.3 根据错别字生成所有候选集合\n",
    "给定一个错误的单词，首先生成跟这个单词距离为1或者2的所有的候选集合。 这部分的代码我们在课程上也讲过，可以参考一下。 "
   ]
  },
  {
   "cell_type": "code",
   "execution_count": 19,
   "metadata": {
    "pycharm": {
     "name": "#%%\n"
    }
   },
   "outputs": [],
   "source": [
    "# 获取编辑距离为1的单词\n",
    "words_N = word_dict\n",
    "vocab = []\n",
    "with open('vocab.txt', 'r') as f:\n",
    "    lines = f.readlines()\n",
    "    for line in lines:\n",
    "        vocab.append(line.strip())\n",
    "\n",
    "def known(words):\n",
    "    return list(set(w for w in words if w in vocab))\n",
    "\n",
    "def edits1(word):\n",
    "    # 替换的英文字\n",
    "    alphabet = \"abcdefghijklmnopqrstuvwxyz\"\n",
    "    \n",
    "    n = len(word)\n",
    "    # 删除\n",
    "    s1 = [word[0:i] + word[i + 1:] for i in range(n)]\n",
    "    # 调换相连的两个字母\n",
    "    s2 = [word[0:i] + word[i + 1] + word[i] + word[i + 2:] for i in range(n - 1)]\n",
    "    # replace\n",
    "    s3 = [word[0:i] + c + word[i + 1:] for i in range(n) for c in alphabet]\n",
    "    # 插入\n",
    "    s4 = [word[0:i] + c + word[i:] for i in range(n + 1) for c in alphabet]\n",
    "    edit1_words = set(s1 + s2 + s3 + s4)\n",
    "    if word in edit1_words:\n",
    "        edit1_words.remove(word)\n",
    "    edit1_words = known(edit1_words)\n",
    "    return edit1_words\n",
    "\n",
    "# 获取编辑距离为1的单词\n",
    "def edits2(word, edit1_words):\n",
    "    edit2_words = set(e2 for e1 in edit1_words for e2 in edits1(e1))\n",
    "    if word in edit2_words:\n",
    "        edit2_words.remove(word)\n",
    "    edit2_words = known(edit2_words)\n",
    "    return edit2_words\n",
    "\n",
    "def generate_candidates(word):\n",
    "    # 基于拼写错误的单词，生成跟它的编辑距离为1或者2的单词，并通过词典库的过滤。\n",
    "    # 只留写法上正确的单词。 \n",
    "    edit1_words = edits1(word)  # 编辑距离为1的候选项\n",
    "    edit2_words = edits2(word, edit1_words)  # 编辑距离为2的候选项\n",
    "    candidates = edit1_words\n",
    "    for word in edit2_words:\n",
    "        candidates.append(word)\n",
    "    return candidates\n"
   ]
  },
  {
   "cell_type": "markdown",
   "metadata": {
    "pycharm": {
     "name": "#%% md\n"
    }
   },
   "source": [
    "#### 4.4 给定一个输入，如果有错误需要纠正\n",
    "\n",
    "给定一个输入``query``, 如果这里有些单词是拼错的，就需要把它纠正过来。这部分的实现可以简单一点： 对于``query``分词，然后把分词后的每一个单词在词库里面搜一下，假设搜不到的话可以认为是拼写错误的! 人如果拼写错误了再通过``channel``和``bigram``来计算最适合的候选。"
   ]
  },
  {
   "cell_type": "code",
   "execution_count": 20,
   "metadata": {
    "pycharm": {
     "name": "#%%\n"
    }
   },
   "outputs": [],
   "source": [
    "import numpy as np\n",
    "\n",
    "def getCorrectestWord(input_word, token_list, cur_index):\n",
    "    candidates = generate_candidates(input_word.lower())\n",
    "\n",
    "    if len(candidates) == 0:\n",
    "        return input_word\n",
    "\n",
    "    candidates_spell_error = []\n",
    "    for candidate in candidates:\n",
    "        if candidate in channel and input_word in channel[candidate]:\n",
    "            candidates_spell_error.append(candidate)\n",
    "\n",
    "    if len(candidates_spell_error) == 0:\n",
    "        r = ''\n",
    "        for cand in candidates:\n",
    "            if words_N.get(cand) and r == '':\n",
    "                r = cand\n",
    "            elif words_N.get(cand) and r != '':\n",
    "                if words_N.get(cand) > words_N.get(r):\n",
    "                    r = cand\n",
    "        return r\n",
    "\n",
    "    candidates = candidates_spell_error\n",
    "\n",
    "    if (len(token_list) == 1):\n",
    "        return max(candidates, key=lambda w: channel[w][input_word])\n",
    "\n",
    "    bein_pos_state = cur_index == 0\n",
    "    middle_pos_state = cur_index > 0 and cur_index < len(token_list) - 1\n",
    "    end_pos_state = cur_index == len(token_list) - 1\n",
    "\n",
    "    prev_word = token_list[cur_index - 1] if cur_index > 0 else None\n",
    "    next_word = token_list[cur_index + 1] if cur_index < len(token_list) - 1 else None\n",
    "\n",
    "    candidates_bigram = []\n",
    "    candidates_bigram_value_dic = {candidate: 0 for candidate in candidates}\n",
    "\n",
    "    for candidate in candidates:\n",
    "        is_bigram_right = False\n",
    "        is_bigram_left = False\n",
    "\n",
    "        if bein_pos_state or middle_pos_state:\n",
    "            if bein_pos_state:\n",
    "                is_bigram_left = True\n",
    "            if candidate in word_bigram_dict and next_word != None and next_word in word_bigram_dict[candidate]:\n",
    "                is_bigram_right = True\n",
    "\n",
    "        if end_pos_state or middle_pos_state:\n",
    "            if end_pos_state:\n",
    "                is_bigram_right = True\n",
    "            if prev_word in word_bigram_dict and prev_word != None and candidate in word_bigram_dict[prev_word]:\n",
    "                is_bigram_left = True\n",
    "        is_bigram = is_bigram_left and is_bigram_right\n",
    "        if is_bigram:\n",
    "            candidates_bigram.append(candidate)\n",
    "            bigram_left_prob = 1 if bein_pos_state else word_bigram_dict[prev_word][candidate]\n",
    "            bigram_right_prob = 1 if end_pos_state else word_bigram_dict[candidate][next_word]\n",
    "            candidates_bigram_value_dic[candidate] = bigram_left_prob * bigram_right_prob\n",
    "\n",
    "    if len(candidates_bigram) == 0:\n",
    "        return max(candidates, key=lambda w: channel[w][input_word])\n",
    "\n",
    "    candidates = candidates_bigram\n",
    "\n",
    "    return max(candidates, key=lambda w: channel[w][input_word] * candidates_bigram_value_dic[candidate])\n",
    "\n",
    "\n",
    "def spell_corrector(line):\n",
    "    # 1. 首先做分词，然后把``line``表示成``tokens``\n",
    "    # 2. 循环每一token, 然后判断是否存在词库里。如果不存在就意味着是拼写错误的，需要修正。 \n",
    "    #    修正的过程就使用上述提到的``noisy channel model``, 然后从而找出最好的修正之后的结果。 \n",
    "    \n",
    "    # 句子先tokens,数据清洗\n",
    "    tokens = [word.strip() for word in line.split()]\n",
    "\n",
    "    newline = \"\"\n",
    "    for index, token in enumerate(tokens):\n",
    "        token = sent_preprocess(token)\n",
    "        if token == None or token.strip() == \"\":\n",
    "            continue\n",
    "        if token.lower() not in vocab:  # 默认单词拼错了\n",
    "            token = getCorrectestWord(token, tokens, index)\n",
    "        newline += token + \" \"\n",
    "\n",
    "    return newline  # 修正之后的结果，假如用户输入没有问题，那这时候``newline = line``\n"
   ]
  },
  {
   "cell_type": "markdown",
   "metadata": {
    "pycharm": {
     "name": "#%% md\n"
    }
   },
   "source": [
    "#### 4.5 基于拼写纠错算法，实现用户输入自动矫正\n",
    "首先有了用户的输入``query``， 然后做必要的处理把句子转换成tokens的形状，然后对于每一个token比较是否是valid, 如果不是的话就进行下面的修正过程。 "
   ]
  },
  {
   "cell_type": "code",
   "execution_count": 31,
   "metadata": {
    "pycharm": {
     "name": "#%%\n"
    }
   },
   "outputs": [
    {
     "name": "stdout",
     "output_type": "stream",
     "text": [
      "['in the late 1990s', 'Particularly since the 1950s, pro wrestling events have frequently been responsible for sellout crowds at large arenas', 'her mother', 'late 1990s', 'early DJs creating music in their own homes']\n",
      "['in the late 1990s', 'late 1990s', 'As of the 2010s', '1970s', 'Particularly since the 1950s, pro wrestling events have frequently been responsible for sellout crowds at large arenas']\n",
      "['in the late 1990s', 'late 1990s', '2003', 'singing and dancing', 'late 1990s']\n",
      "['singing and dancing', 'Houston, Texas', 'focus upon its niche attractions', 'Premier League and Football League', 'Eastern European destinations']\n",
      "['singing and dancing', 'Houston, Texas', 'light', 'similarities to wool', 'barred from entering by the Scottish Football Association.']\n",
      "['singing and dancing', 'late 1990s', 'in the late 1990s', 'Houston, Texas', 'late 1990s']\n"
     ]
    }
   ],
   "source": [
    "test_query1 = \"When did Beyonce start becom popular?\"  # 拼写错误的\n",
    "test_query2 = \"Wht areas did Beyonce compete in when she was growing up?\"  # 拼写错误的\n",
    "\n",
    "test_query1 = spell_corrector(test_query1)\n",
    "test_query2 = spell_corrector(test_query2)\n",
    "\n",
    "print (get_top_results_tfidf(test_query1))\n",
    "print (get_top_results_w2v(test_query1))\n",
    "print (get_top_results_bert(test_query1))\n",
    "\n",
    "print (get_top_results_tfidf(test_query2))\n",
    "print (get_top_results_w2v(test_query2))\n",
    "print (get_top_results_bert(test_query2))"
   ]
  },
  {
   "cell_type": "markdown",
   "metadata": {
    "pycharm": {
     "name": "#%% md\n"
    }
   },
   "source": [
    "### 附录 \n",
    "在本次项目中我们实现了一个简易的问答系统。基于这个项目，我们其实可以有很多方面的延伸。\n",
    "- 在这里，我们使用文本向量之间的余弦相似度作为了一个标准。但实际上，我们也可以基于基于包含关键词的情况来给一定的权重。比如一个单词跟related word有多相似，越相似就意味着相似度更高，权重也会更大。 \n",
    "- 另外 ，除了根据词向量去寻找``related words``也可以提前定义好同义词库，但这个需要大量的人力成本。 \n",
    "- 在这里，我们直接返回了问题的答案。 但在理想情况下，我们还是希望通过问题的种类来返回最合适的答案。 比如一个用户问：“明天北京的天气是多少？”， 那这个问题的答案其实是一个具体的温度（其实也叫做实体），所以需要在答案的基础上做进一步的抽取。这项技术其实是跟信息抽取相关的。 \n",
    "- 对于词向量，我们只是使用了``average pooling``， 除了average pooling，我们也还有其他的经典的方法直接去学出一个句子的向量。\n",
    "- 短文的相似度分析一直是业界和学术界一个具有挑战性的问题。在这里我们使用尽可能多的同义词来提升系统的性能。但除了这种简单的方法，可以尝试其他的方法比如WMD，或者适当结合parsing相关的知识点。 "
   ]
  }
 ],
 "metadata": {
  "kernelspec": {
   "display_name": "Python 3",
   "language": "python",
   "name": "python3"
  },
  "language_info": {
   "codemirror_mode": {
    "name": "ipython",
    "version": 3
   },
   "file_extension": ".py",
   "mimetype": "text/x-python",
   "name": "python",
   "nbconvert_exporter": "python",
   "pygments_lexer": "ipython3",
   "version": "3.7.3"
  },
  "pycharm": {
   "stem_cell": {
    "cell_type": "raw",
    "source": [],
    "metadata": {
     "collapsed": false
    }
   }
  }
 },
 "nbformat": 4,
 "nbformat_minor": 4
}